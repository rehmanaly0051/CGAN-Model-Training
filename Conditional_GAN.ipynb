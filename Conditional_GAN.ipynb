{
  "nbformat": 4,
  "nbformat_minor": 0,
  "metadata": {
    "colab": {
      "provenance": [],
      "gpuType": "T4",
      "toc_visible": true,
      "authorship_tag": "ABX9TyMQ4Zyud5UBfuEYYqaJ/fWo",
      "include_colab_link": true
    },
    "kernelspec": {
      "name": "python3",
      "display_name": "Python 3"
    },
    "language_info": {
      "name": "python"
    },
    "accelerator": "GPU"
  },
  "cells": [
    {
      "cell_type": "markdown",
      "metadata": {
        "id": "view-in-github",
        "colab_type": "text"
      },
      "source": [
        "<a href=\"https://colab.research.google.com/github/rehmanaly0051/CGAN-Model-Training/blob/main/Conditional_GAN.ipynb\" target=\"_parent\"><img src=\"https://colab.research.google.com/assets/colab-badge.svg\" alt=\"Open In Colab\"/></a>"
      ]
    },
    {
      "cell_type": "code",
      "source": [
        "#from google.colab import drive\n",
        "#drive.mount('/content/drive')"
      ],
      "metadata": {
        "id": "pBFUjz5JfV62"
      },
      "execution_count": 39,
      "outputs": []
    },
    {
      "cell_type": "markdown",
      "source": [
        "## 1. Dataset Preprocessing"
      ],
      "metadata": {
        "id": "p-L5c5sGE8Yr"
      }
    },
    {
      "cell_type": "code",
      "source": [
        "import os\n",
        "import torch\n",
        "from torch.utils.data import DataLoader, Dataset\n",
        "from torchvision import transforms\n",
        "from PIL import Image"
      ],
      "metadata": {
        "id": "46lc_t5xfT4V"
      },
      "execution_count": 40,
      "outputs": []
    },
    {
      "cell_type": "markdown",
      "source": [
        "### Defining Dataset class"
      ],
      "metadata": {
        "id": "DZNm_5ymHF_8"
      }
    },
    {
      "cell_type": "code",
      "source": [
        "class CubiCasa5kDataset(Dataset):\n",
        "    def __init__(self, data_list, root_dir, transforms=None):\n",
        "        # Ensure data_list is not None and not empty\n",
        "        self.data_list = data_list if data_list is not None else []\n",
        "        self.root_dir = root_dir\n",
        "        self.transforms = transforms\n",
        "\n",
        "    def __len__(self):\n",
        "        return len(self.data_list)\n",
        "\n",
        "    def __getitem__(self, idx): # Correcting the typo in method name\n",
        "        img_path = os.path.join(self.root_dir, self.data_list[idx] + '_original.png')\n",
        "        label_path = os.path.join(self.root_dir, self.data_list[idx] + '_scaled.png')\n",
        "\n",
        "        image = Image.open(img_path).convert('RGB')\n",
        "        label = Image.open(label_path).convert('RGB')\n",
        "\n",
        "        if self.transforms:\n",
        "            image = self.transforms(image)\n",
        "            label = self.transforms(label)\n",
        "\n",
        "        return image, label\n"
      ],
      "metadata": {
        "id": "X6WPg1gOHEip"
      },
      "execution_count": 41,
      "outputs": []
    },
    {
      "cell_type": "markdown",
      "source": [
        "### Dataset path"
      ],
      "metadata": {
        "id": "bikuPCe4JKM4"
      }
    },
    {
      "cell_type": "code",
      "source": [
        "# dataset path\n",
        "dataset_path = '/content/drive/MyDrive/cubicasa5k'"
      ],
      "metadata": {
        "id": "AgRRsFCaIwgB"
      },
      "execution_count": 42,
      "outputs": []
    },
    {
      "cell_type": "markdown",
      "source": [
        "### Loading Train, Test and Val labels"
      ],
      "metadata": {
        "id": "0qgWSdinJDGP"
      }
    },
    {
      "cell_type": "code",
      "source": [
        "def load_labels(file_path):\n",
        "    # Ensure file exists and is not empty before processing\n",
        "    if not os.path.exists(file_path):\n",
        "        print(f\"Warning: File not found: {file_path}\")\n",
        "        return [] # Return empty list if file not found\n",
        "    with open(file_path, 'r') as f:\n",
        "        lines = f.readlines()\n",
        "        labels = [line.strip() for line in lines]\n",
        "        if not labels: # Check for empty labels list\n",
        "            print(f\"Warning: File is empty: {file_path}\")\n",
        "    return labels\n",
        "\n",
        "train_data = load_labels(os.path.join(dataset_path, 'train.txt'))\n",
        "test_data = load_labels(os.path.join(dataset_path, 'test.txt'))\n",
        "val_data = load_labels(os.path.join(dataset_path, 'val.txt'))"
      ],
      "metadata": {
        "id": "c0wP7u1SI521"
      },
      "execution_count": 43,
      "outputs": []
    },
    {
      "cell_type": "markdown",
      "source": [
        "### Defining transfomations"
      ],
      "metadata": {
        "id": "ntSZBnr9Jmvv"
      }
    },
    {
      "cell_type": "code",
      "source": [
        "transforms = transforms.Compose([\n",
        "    transforms.Resize((256, 256)),\n",
        "    transforms.ToTensor(),\n",
        "    transforms.Normalize((0.5 ,),(0.5 ,))\n",
        "])"
      ],
      "metadata": {
        "id": "9JjWZ9kbJeGo"
      },
      "execution_count": 44,
      "outputs": []
    },
    {
      "cell_type": "markdown",
      "source": [
        "### Creating dataset"
      ],
      "metadata": {
        "id": "hZGd5M45KL1G"
      }
    },
    {
      "cell_type": "code",
      "source": [
        "dataset_train = CubiCasa5kDataset(train_data, dataset_path, transforms)\n",
        "dataset_test = CubiCasa5kDataset(test_data, dataset_path, transforms)\n",
        "dataset_val = CubiCasa5kDataset(val_data, dataset_path, transforms)"
      ],
      "metadata": {
        "id": "fS8zluOoKLOw"
      },
      "execution_count": 45,
      "outputs": []
    },
    {
      "cell_type": "markdown",
      "source": [
        "### Creating dataloaders"
      ],
      "metadata": {
        "id": "awVCaMNzK1Zb"
      }
    },
    {
      "cell_type": "code",
      "source": [
        "train_loader = DataLoader(dataset_train, batch_size=16, shuffle=True)\n",
        "test_loader = DataLoader(dataset_test, batch_size=16, shuffle=False)\n",
        "val_loader = DataLoader(dataset_val, batch_size=16, shuffle=False)"
      ],
      "metadata": {
        "id": "T8VPIUuHKqIs"
      },
      "execution_count": 46,
      "outputs": []
    },
    {
      "cell_type": "markdown",
      "source": [
        "### Displaying dataset size"
      ],
      "metadata": {
        "id": "MhBWhDZcLtiJ"
      }
    },
    {
      "cell_type": "code",
      "source": [
        "print(f'Train Samples :{len(dataset_train)}',\n",
        "      f'Test Samples : {len(dataset_test)}',\n",
        "      f'Val Samples : {len(dataset_val)}')"
      ],
      "metadata": {
        "colab": {
          "base_uri": "https://localhost:8080/"
        },
        "id": "nRPeAXawLCZw",
        "outputId": "70bec99a-c115-475f-c40b-394849a93392"
      },
      "execution_count": 47,
      "outputs": [
        {
          "output_type": "stream",
          "name": "stdout",
          "text": [
            "Train Samples :4200 Test Samples : 400 Val Samples : 400\n"
          ]
        }
      ]
    },
    {
      "cell_type": "markdown",
      "source": [
        "## CGAN floorplan Generation"
      ],
      "metadata": {
        "id": "8OAz7Vt4Mkfy"
      }
    },
    {
      "cell_type": "code",
      "source": [
        "import torch\n",
        "import torch.nn as nn\n",
        "import torch.optim as optim\n",
        "import torchvision.utils as vutils\n",
        "from torch.utils.data import DataLoader"
      ],
      "metadata": {
        "id": "nkPjHGcKMTQH"
      },
      "execution_count": 48,
      "outputs": []
    },
    {
      "cell_type": "markdown",
      "source": [
        "### Defining Generator class"
      ],
      "metadata": {
        "id": "u-mPSXDST_ZW"
      }
    },
    {
      "cell_type": "code",
      "source": [
        "class Generator(nn.Module):\n",
        "  def __init__(self, input_dim, output_channels):\n",
        "    super(Generator, self).__init__()\n",
        "    self.model = nn.Sequential(\n",
        "        nn.Linear(input_dim, 256),\n",
        "        nn.ReLU(),\n",
        "        nn.Linear(256, 512),\n",
        "        nn.ReLU(),\n",
        "        nn.Linear(512, 1024),\n",
        "        nn.ReLU(),\n",
        "        nn.Linear(1024, output_channels),\n",
        "        nn.Tanh()\n",
        "    )\n",
        "\n",
        "  def forward(self, z):\n",
        "    return self.model(z)"
      ],
      "metadata": {
        "id": "LLHC0AxGPTz1"
      },
      "execution_count": 51,
      "outputs": []
    },
    {
      "cell_type": "markdown",
      "source": [
        "### Defining Discriminator class"
      ],
      "metadata": {
        "id": "ybn9ncL0dSm5"
      }
    },
    {
      "cell_type": "code",
      "source": [
        "class Discriminator(nn.Module):\n",
        "    def __init__(self, input_dim):\n",
        "        super(Discriminator, self).__init__()\n",
        "        self.model = nn.Sequential(\n",
        "            nn.Linear(input_dim, 1024),\n",
        "            nn.LeakyReLU(0.2),\n",
        "            nn.Linear(1024, 512),\n",
        "            nn.LeakyReLU(0.2),\n",
        "            nn.Linear(512, 256),\n",
        "            nn.LeakyReLU(0.2),\n",
        "            nn.Linear(256, 1),\n",
        "            nn.Sigmoid()\n",
        "        )\n",
        "\n",
        "    def forward(self, img):\n",
        "        return self.model(img)"
      ],
      "metadata": {
        "id": "gtXpwcKIdv-u"
      },
      "execution_count": 53,
      "outputs": []
    },
    {
      "cell_type": "markdown",
      "source": [
        "### Setting parameters"
      ],
      "metadata": {
        "id": "b28r1bcWd_E8"
      }
    },
    {
      "cell_type": "code",
      "source": [
        "latent_dim = 100\n",
        "image_dim = 256 * 256 * 3\n",
        "batch_size = 16\n",
        "num_epochs = 100\n",
        "learning_rate = 0.0002"
      ],
      "metadata": {
        "id": "0wyFXt2Ad-IO"
      },
      "execution_count": 54,
      "outputs": []
    },
    {
      "cell_type": "markdown",
      "source": [
        "### Initializing Models"
      ],
      "metadata": {
        "id": "dpZLfnN_eJJV"
      }
    },
    {
      "cell_type": "code",
      "source": [
        "generator = Generator(latent_dim, image_dim)\n",
        "discriminator = Discriminator(image_dim)\n",
        "\n",
        "gan_loss = nn.BCELoss()\n",
        "optimizer_g = optim.Adam(generator.parameters(), lr=learning_rate)\n",
        "optimizer_d = optim.Adam(discriminator.parameters(), lr=learning_rate)"
      ],
      "metadata": {
        "id": "aJ991G7reIkY"
      },
      "execution_count": 55,
      "outputs": []
    },
    {
      "cell_type": "markdown",
      "source": [
        "### Training Loop"
      ],
      "metadata": {
        "id": "XtuSYRMZeVg4"
      }
    },
    {
      "cell_type": "code",
      "source": [
        "epoches = 50\n",
        "device = torch.device('cuda' if torch.cuda.is_avaibale else 'cpu')\n",
        "generator.to(device)\n",
        "discriminator.to(device)\n",
        "\n",
        "dataloader = DataLoader(dataset_train, batch_size=batch_size, shuffle=True)\n",
        "\n",
        "for epoch in range(epoches):\n",
        "  for i, (real_imgs, _) in enumerate(dataloader):\n",
        "    real_img = real_imgs.view(batch_size, -1).to(device)\n",
        "\n",
        "    # Train discriminator\n",
        "    optimizer_d.zero_grad()\n",
        "    z = torch.randn(batch_size, latent_dim).to(device)\n",
        "    fake_imgs = generator(z).detach()\n",
        "\n",
        "    real_loss = gan_loss(discriminator(real_imgs), torch.ones(batch_size, 1).to(device))\n",
        "    fake_loss = gan_loss(discriminator(fake_imgs), torch.zeros(batch_size, 1).to(device))\n",
        "    d_loss = real_loss + fake_loss\n",
        "    d_loss.backward()\n",
        "    optimizer_d.step()\n",
        "\n",
        "    # Train generator\n",
        "    optimizer_g.zero_grad()\n",
        "    fake_imgs = generator(z)\n",
        "    g_loss = gan_loss(discriminator(fake_imgs), torch.ones(batch_size, 1).to(device))\n",
        "    g_loss.backward()\n",
        "    optimizer_g.step()\n",
        "\n",
        "  print(f'Epoch {epoch}/{epoches} | D Loss : {d_loss.item()} G Loss : {g_loss.item()}')\n",
        "\n",
        "  # creating output folder\n",
        "  output_folder = '/content/drive/MyDrive/output_images'\n",
        "  os.makedirs(output_folder, exist_ok=True)\n",
        "\n",
        "  if epoch % 10 == 0:\n",
        "    save_path = os.path.join(output_folder, f'generated_epoch_{epoch}.png')\n",
        "    vutils.save_image(fake_imgs.view(batch_size, 3, 256, 256), save_path, normalize=True)\n"
      ],
      "metadata": {
        "id": "Pzy5TnB1eT8r"
      },
      "execution_count": null,
      "outputs": []
    }
  ]
}