{
  "nbformat": 4,
  "nbformat_minor": 0,
  "metadata": {
    "colab": {
      "provenance": [],
      "authorship_tag": "ABX9TyMb37kTywb3r42+kJiED1yk",
      "include_colab_link": true
    },
    "kernelspec": {
      "name": "python3",
      "display_name": "Python 3"
    },
    "language_info": {
      "name": "python"
    }
  },
  "cells": [
    {
      "cell_type": "markdown",
      "metadata": {
        "id": "view-in-github",
        "colab_type": "text"
      },
      "source": [
        "<a href=\"https://colab.research.google.com/github/rehmanaly0051/CGAN-Model-Training/blob/main/Conditional_GAN.ipynb\" target=\"_parent\"><img src=\"https://colab.research.google.com/assets/colab-badge.svg\" alt=\"Open In Colab\"/></a>"
      ]
    },
    {
      "cell_type": "code",
      "source": [
        "from google.colab import drive\n",
        "drive.mount('/content/drive')"
      ],
      "metadata": {
        "colab": {
          "base_uri": "https://localhost:8080/"
        },
        "id": "pBFUjz5JfV62",
        "outputId": "af977378-e007-4b76-c145-30fb5f2c7421"
      },
      "execution_count": null,
      "outputs": [
        {
          "output_type": "stream",
          "name": "stdout",
          "text": [
            "Mounted at /content/drive\n"
          ]
        }
      ]
    },
    {
      "cell_type": "code",
      "execution_count": null,
      "metadata": {
        "colab": {
          "base_uri": "https://localhost:8080/"
        },
        "id": "0jCrEKAse267",
        "outputId": "1d6d8782-00de-4a28-db99-acf4518fa536"
      },
      "outputs": [
        {
          "output_type": "stream",
          "name": "stdout",
          "text": [
            "Train Samples: 4200, Val Samples: 400, Test Samples: 400\n"
          ]
        }
      ],
      "source": [
        "import os\n",
        "import torch\n",
        "from torch.utils.data import Dataset, DataLoader\n",
        "from torchvision import transforms\n",
        "from PIL import Image\n",
        "\n",
        "# Define dataset class\n",
        "class CubiCasa5kDataset(Dataset):\n",
        "    def __init__(self, data_list, root_dir, transform=None):\n",
        "        self.data_list = data_list\n",
        "        self.root_dir = root_dir\n",
        "        self.transform = transform\n",
        "\n",
        "    def __len__(self):\n",
        "        return len(self.data_list)\n",
        "\n",
        "    def __getitem__(self, idx):\n",
        "        img_path = os.path.join(self.root_dir, self.data_list[idx] + \"_original.png\")\n",
        "        label_path = os.path.join(self.root_dir, self.data_list[idx] + \"_scaled.png\")\n",
        "\n",
        "        image = Image.open(img_path).convert(\"RGB\")\n",
        "        label = Image.open(label_path).convert(\"RGB\")\n",
        "\n",
        "        if self.transform:\n",
        "            image = self.transform(image)\n",
        "            label = self.transform(label)\n",
        "\n",
        "        return image, label\n",
        "\n",
        "# Path to dataset\n",
        "dataset_path = \"/content/drive/MyDrive/cubicasa5k\"\n",
        "\n",
        "# Load train, val, test labels\n",
        "def load_labels(file_path):\n",
        "    with open(file_path, \"r\") as f:\n",
        "        lines = f.readlines()\n",
        "    return [line.strip() for line in lines]\n",
        "\n",
        "train_data = load_labels(os.path.join(dataset_path, \"train.txt\"))\n",
        "val_data = load_labels(os.path.join(dataset_path, \"val.txt\"))\n",
        "test_data = load_labels(os.path.join(dataset_path, \"test.txt\"))\n",
        "\n",
        "# Define transformations\n",
        "transform = transforms.Compose([\n",
        "    transforms.Resize((256, 256)),\n",
        "    transforms.ToTensor(),\n",
        "    transforms.Normalize((0.5,), (0.5,))\n",
        "])\n",
        "\n",
        "# Create datasets\n",
        "dataset_train = CubiCasa5kDataset(train_data, dataset_path, transform=transform)\n",
        "dataset_val = CubiCasa5kDataset(val_data, dataset_path, transform=transform)\n",
        "dataset_test = CubiCasa5kDataset(test_data, dataset_path, transform=transform)\n",
        "\n",
        "# Create data loaders\n",
        "train_loader = DataLoader(dataset_train, batch_size=16, shuffle=True)\n",
        "val_loader = DataLoader(dataset_val, batch_size=16, shuffle=False)\n",
        "test_loader = DataLoader(dataset_test, batch_size=16, shuffle=False)\n",
        "\n",
        "# Print dataset size\n",
        "print(f\"Train Samples: {len(dataset_train)}, Val Samples: {len(dataset_val)}, Test Samples: {len(dataset_test)}\")\n"
      ]
    },
    {
      "cell_type": "code",
      "source": [],
      "metadata": {
        "id": "IDo09iNne_rZ"
      },
      "execution_count": null,
      "outputs": []
    },
    {
      "cell_type": "code",
      "source": [],
      "metadata": {
        "id": "46lc_t5xfT4V"
      },
      "execution_count": null,
      "outputs": []
    }
  ]
}